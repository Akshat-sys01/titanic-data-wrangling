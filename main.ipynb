{
 "cells": [
  {
   "cell_type": "code",
   "execution_count": null,
   "metadata": {
    "colab": {
     "base_uri": "https://localhost:8080/"
    },
    "executionInfo": {
     "elapsed": 103,
     "status": "ok",
     "timestamp": 1757849523337,
     "user": {
      "displayName": "Akshat Raj",
      "userId": "15089426643608602487"
     },
     "user_tz": -330
    },
    "id": "-bI97WZo6she",
    "outputId": "33cd1b92-02ee-4a31-c580-17d47f51dc0c"
   },
   "outputs": [],
   "source": [
    "import seaborn as sns\n",
    "import pandas as pd\n",
    "\n",
    "# Load Titanic dataset\n",
    "df = sns.load_dataset(\"titanic\")\n",
    "print(df)"
   ]
  },
  {
   "cell_type": "code",
   "execution_count": null,
   "metadata": {
    "colab": {
     "base_uri": "https://localhost:8080/"
    },
    "executionInfo": {
     "elapsed": 16,
     "status": "ok",
     "timestamp": 1757849523339,
     "user": {
      "displayName": "Akshat Raj",
      "userId": "15089426643608602487"
     },
     "user_tz": -330
    },
    "id": "vHflCojn65Qv",
    "outputId": "b7848a5f-0bd8-4b35-ae1f-f1dacadf6178"
   },
   "outputs": [],
   "source": [
    "# View first row\n",
    "print(df.head(), end=\"\\n\\n\")\n",
    "\n",
    "# View last row\n",
    "print(df.tail(), end=\"\\n\\n\")\n",
    "\n",
    "# Check shape\n",
    "print(\"Shape = \" + f\"{df.shape}\", end=\"\\n\\n\")\n",
    "\n",
    "# Get column info & types\n",
    "print(df.info(), end=\"\\n\\n\")\n",
    "\n",
    "# Check summary statistics\n",
    "print(df.describe())"
   ]
  },
  {
   "cell_type": "code",
   "execution_count": null,
   "metadata": {
    "colab": {
     "base_uri": "https://localhost:8080/"
    },
    "executionInfo": {
     "elapsed": 32,
     "status": "ok",
     "timestamp": 1757849523373,
     "user": {
      "displayName": "Akshat Raj",
      "userId": "15089426643608602487"
     },
     "user_tz": -330
    },
    "id": "IBTE3Icn7cig",
    "outputId": "e26b0564-a18f-49c5-bffe-f1f801178b7b"
   },
   "outputs": [],
   "source": [
    "# Find missing values\n",
    "print(df.isnull().sum(), end=\"\\n\\n\")\n",
    "\n",
    "# Fill age with median\n",
    "df['age'] = df['age'].fillna(df['age'].median())\n",
    "print(df['age'], end=\"\\n\\n\")\n",
    "\n",
    "# Fill embarked with mode\n",
    "df['embarked'] = df['embarked'].fillna(df['embarked'].mode()[0])\n",
    "print(df['embarked'], end=\"\\n\\n\")\n",
    "\n",
    "# Drop deck\n",
    "df.drop(columns=['deck'], inplace=True)\n",
    "print(df.info(), end=\"\\n\\n\")"
   ]
  },
  {
   "cell_type": "code",
   "execution_count": null,
   "metadata": {
    "colab": {
     "base_uri": "https://localhost:8080/"
    },
    "executionInfo": {
     "elapsed": 31,
     "status": "ok",
     "timestamp": 1757849523406,
     "user": {
      "displayName": "Akshat Raj",
      "userId": "15089426643608602487"
     },
     "user_tz": -330
    },
    "id": "ZHvQfMIoATVG",
    "outputId": "f7693097-7733-4a8e-8831-05f81144e848"
   },
   "outputs": [],
   "source": [
    "# Check for duplicates\n",
    "print(df.duplicated().sum())\n",
    "\n",
    "# Remove duplicates\n",
    "df.drop_duplicates(inplace=True)\n",
    "print(df.duplicated().sum())"
   ]
  },
  {
   "cell_type": "code",
   "execution_count": null,
   "metadata": {
    "colab": {
     "base_uri": "https://localhost:8080/"
    },
    "executionInfo": {
     "elapsed": 9,
     "status": "ok",
     "timestamp": 1757849523417,
     "user": {
      "displayName": "Akshat Raj",
      "userId": "15089426643608602487"
     },
     "user_tz": -330
    },
    "id": "XR8KcrQzDONP",
    "outputId": "2fb09333-c2a4-4808-bc81-24dba9a1b4a3"
   },
   "outputs": [],
   "source": [
    "# Standardize\n",
    "cols_to_clean = ['sex', 'embarked', 'class', 'who', 'alive']\n",
    "\n",
    "for col in cols_to_clean:\n",
    "  df[col] = df[col].astype(str).str.lower().str.strip()\n",
    "\n",
    "# Check for unique values\n",
    "for col in cols_to_clean:\n",
    "  print(df[col].unique())"
   ]
  },
  {
   "cell_type": "code",
   "execution_count": null,
   "metadata": {
    "colab": {
     "base_uri": "https://localhost:8080/"
    },
    "executionInfo": {
     "elapsed": 77,
     "status": "ok",
     "timestamp": 1757849523539,
     "user": {
      "displayName": "Akshat Raj",
      "userId": "15089426643608602487"
     },
     "user_tz": -330
    },
    "id": "Rydks2fsBJPH",
    "outputId": "15a4a8c3-c1a9-4ccc-b687-df28c685866c"
   },
   "outputs": [],
   "source": [
    "# Convert categorial columns into proper categories\n",
    "df['pclass'] = df['pclass'].astype('category')\n",
    "df['sex'] = df['sex'].astype('category')\n",
    "df['embarked'] = df['embarked'].astype('category')\n",
    "\n",
    "# Convert alive into boolean\n",
    "df['alive'] = df['alive'].astype(bool)\n",
    "\n",
    "df.info()"
   ]
  },
  {
   "cell_type": "code",
   "execution_count": null,
   "metadata": {
    "colab": {
     "base_uri": "https://localhost:8080/"
    },
    "executionInfo": {
     "elapsed": 9,
     "status": "ok",
     "timestamp": 1757849523547,
     "user": {
      "displayName": "Akshat Raj",
      "userId": "15089426643608602487"
     },
     "user_tz": -330
    },
    "id": "cnM3bUPZE0SP",
    "outputId": "c5c62f6c-89d4-42bf-c6d3-5df651b8363e"
   },
   "outputs": [],
   "source": [
    "# Detect outliers\n",
    "print(df['fare'].describe(), end=\"\\n\\n\")\n",
    "print(df['age'].describe(), end=\"\\n\\n\")\n",
    "\n",
    "# Cap at 99th percentile\n",
    "upper_limit = df['fare'].quantile(0.99)\n",
    "df['fare_capped'] = df['fare'].clip(upper=upper_limit)\n",
    "print(df['fare_capped'].describe())"
   ]
  },
  {
   "cell_type": "code",
   "execution_count": null,
   "metadata": {
    "colab": {
     "base_uri": "https://localhost:8080/"
    },
    "executionInfo": {
     "elapsed": 28,
     "status": "ok",
     "timestamp": 1757849523577,
     "user": {
      "displayName": "Akshat Raj",
      "userId": "15089426643608602487"
     },
     "user_tz": -330
    },
    "id": "q_Rx7ZFEGTon",
    "outputId": "812e9f7f-8ec3-427d-ed14-67a75104c469"
   },
   "outputs": [],
   "source": [
    "# Rename columns\n",
    "df = df.rename(columns={\n",
    "    'sibsp': 'siblings_spouses_abroad',\n",
    "    'parch': 'parents_children_abroad'\n",
    "})\n",
    "\n",
    "print(df.info())"
   ]
  },
  {
   "cell_type": "code",
   "execution_count": null,
   "metadata": {
    "colab": {
     "base_uri": "https://localhost:8080/"
    },
    "executionInfo": {
     "elapsed": 10,
     "status": "ok",
     "timestamp": 1757849711258,
     "user": {
      "displayName": "Akshat Raj",
      "userId": "15089426643608602487"
     },
     "user_tz": -330
    },
    "id": "7cJijjKSH4if",
    "outputId": "49c93c3e-178e-4cfc-e457-739db0a79457"
   },
   "outputs": [],
   "source": [
    "# Pre-final check\n",
    "print(df.isnull().sum(), end=\"\\n\\n\")\n",
    "\n",
    "print(df.dtypes, end=\"\\n\\n\")\n",
    "\n",
    "print(df.duplicated().sum(), end=\"\\n\\n\")\n",
    "\n",
    "print(df.info(), end=\"\\n\\n\")\n",
    "\n",
    "print(df.head())"
   ]
  },
  {
   "cell_type": "code",
   "execution_count": null,
   "metadata": {
    "executionInfo": {
     "elapsed": 7,
     "status": "ok",
     "timestamp": 1757851829075,
     "user": {
      "displayName": "Akshat Raj",
      "userId": "15089426643608602487"
     },
     "user_tz": -330
    },
    "id": "iU2O_nmIIQPv"
   },
   "outputs": [],
   "source": [
    "# Final changes\n",
    "\n",
    "# drop embarked column\n",
    "# df.drop(columns=\"embarked\", inplace=True)\n",
    "\n",
    "# Fill missing values in emark_town with mode\n",
    "mode_value = df['embark_town'].mode()[0]\n",
    "df['embark_town'] = df['embark_town'].astype('str')\n",
    "df['embark_town'] = df['embark_town'].replace('nan', mode_value)\n",
    "\n",
    "# Standaradize the embark_town columns\n",
    "df['embark_town'] = df['embark_town'].str.lower().str.strip()\n",
    "df['embark_town'] = df['embark_town'].astype('category')\n",
    "\n",
    "# Reset index\n",
    "df = df.reset_index(drop=True)"
   ]
  },
  {
   "cell_type": "code",
   "execution_count": null,
   "metadata": {
    "colab": {
     "base_uri": "https://localhost:8080/"
    },
    "executionInfo": {
     "elapsed": 27,
     "status": "ok",
     "timestamp": 1757851832306,
     "user": {
      "displayName": "Akshat Raj",
      "userId": "15089426643608602487"
     },
     "user_tz": -330
    },
    "id": "r4tn_KZbBK1w",
    "outputId": "1d91b2d1-e53d-4eb7-f5a9-62cea6bff275"
   },
   "outputs": [],
   "source": [
    "# Final check\n",
    "print(df.isnull().sum(), end=\"\\n\\n\")\n",
    "\n",
    "print(df.dtypes, end=\"\\n\\n\")\n",
    "\n",
    "print(df.info(), end=\"\\n\\n\")\n",
    "\n",
    "print(df.head(), end=\"\\n\\n\")"
   ]
  },
  {
   "cell_type": "code",
   "execution_count": null,
   "metadata": {
    "executionInfo": {
     "elapsed": 4,
     "status": "ok",
     "timestamp": 1757851897070,
     "user": {
      "displayName": "Akshat Raj",
      "userId": "15089426643608602487"
     },
     "user_tz": -330
    },
    "id": "6Fj-vBG9DRxI"
   },
   "outputs": [],
   "source": [
    "df.to_csv(\"titanic_cleaned.csv\", index=False)"
   ]
  }
 ],
 "metadata": {
  "colab": {
   "authorship_tag": "ABX9TyPrkY7znryFY7Rr5311ZJ7q",
   "mount_file_id": "1ft88O4ShGKb9GH33SJshAx23Fy_2jP4j",
   "provenance": []
  },
  "kernelspec": {
   "display_name": "Python 3",
   "name": "python3"
  },
  "language_info": {
   "name": "python"
  }
 },
 "nbformat": 4,
 "nbformat_minor": 0
}
